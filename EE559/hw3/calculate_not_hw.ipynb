{
 "cells": [
  {
   "cell_type": "code",
   "execution_count": 2,
   "metadata": {},
   "outputs": [
    {
     "name": "stdout",
     "output_type": "stream",
     "text": [
      "-21.61096477833523\n",
      "-9.75711272639441\n"
     ]
    }
   ],
   "source": [
    "import numpy as np\n",
    "from scipy.special import gamma\n",
    "from scipy.special import gammaln  # 用于计算 log(Γ(x))\n",
    "\n",
    "# 给定的 lambda 和 x 值\n",
    "lambda_values = np.array([1, 2, 1, 2])  # 假设 λ_j 的值\n",
    "x_values = np.array([0.1, 0.2, 0.3, 4])  # 假设 x_j 的值\n",
    "\n",
    "# 计算 Σ\n",
    "# result = np.sum(-np.log(gamma(4)) + 4 * np.log(lambda_values) + 3 * np.log(x_values) - lambda_values * x_values)\n",
    "\n",
    "# 或者更高效地使用 gammaln 计算 log(Γ(4))\n",
    "result1 = np.sum(-gammaln(4) + 4 * np.log(lambda_values) + 3 * np.log(x_values) - lambda_values * x_values)\n",
    "\n",
    "print(result1)\n",
    "\n",
    "result2 = np.sum(-gammaln(2) + 2 * np.log(lambda_values) + 1 * np.log(x_values) - lambda_values * x_values)\n",
    "\n",
    "print(result2)"
   ]
  },
  {
   "cell_type": "code",
   "execution_count": 6,
   "metadata": {},
   "outputs": [
    {
     "name": "stdout",
     "output_type": "stream",
     "text": [
      "x = 4.911679520727044\n"
     ]
    }
   ],
   "source": [
    "# 计算等式右边\n",
    "rhs = gammaln(8) - gammaln(3.2) - 4.8 * np.log(1)\n",
    "\n",
    "# 计算 x\n",
    "x = np.exp(rhs / 4.8)\n",
    "\n",
    "print(f\"x = {x}\")"
   ]
  },
  {
   "cell_type": "code",
   "execution_count": 8,
   "metadata": {},
   "outputs": [
    {
     "name": "stdout",
     "output_type": "stream",
     "text": [
      "Type-1 Error (False Positive Rate): 0.1572\n",
      "Type-2 Error (False Negative Rate): 0.1243\n"
     ]
    }
   ],
   "source": [
    "from scipy.stats import gamma\n",
    "\n",
    "# 已知参数\n",
    "p1 = 3.2\n",
    "p2 = 8\n",
    "lambda_1 = 1\n",
    "lambda_2 = 1\n",
    "x_star = x  # 你计算出的决策边界 x*\n",
    "\n",
    "# 计算 Type-1 错误 P(X > x* | omega_1)\n",
    "type_1_error = 1 - gamma.cdf(x_star, a=p1, scale=1/lambda_1)\n",
    "\n",
    "# 计算 Type-2 错误 P(X < x* | omega_2)\n",
    "type_2_error = gamma.cdf(x_star, a=p2, scale=1/lambda_2)\n",
    "\n",
    "print(f\"Type-1 Error (False Positive Rate): {type_1_error:.4f}\")\n",
    "print(f\"Type-2 Error (False Negative Rate): {type_2_error:.4f}\")"
   ]
  },
  {
   "cell_type": "code",
   "execution_count": 26,
   "metadata": {},
   "outputs": [
    {
     "name": "stdout",
     "output_type": "stream",
     "text": [
      "最简分数形式: 17/30\n"
     ]
    }
   ],
   "source": [
    "from fractions import Fraction\n",
    "\n",
    "def sum_and_simplify_fractions(fractions):\n",
    "    \"\"\"\n",
    "    计算四个分数的和，并化简为最简分数\n",
    "    :param fractions: 以字符串或元组 (numerator, denominator) 形式输入的四个分数\n",
    "    :return: 化简后的最简分数 (numerator, denominator)\n",
    "    \"\"\"\n",
    "    # 将输入转换为 Fraction 对象\n",
    "    fractions = [Fraction(f) if isinstance(f, str) else Fraction(f[0], f[1]) for f in fractions]\n",
    "    \n",
    "    # 计算总和\n",
    "    total_sum = sum(fractions)\n",
    "    \n",
    "    # 化简分数并返回\n",
    "    return total_sum.numerator, total_sum.denominator\n",
    "\n",
    "# 示例输入（可以是字符串或者 (分子, 分母) 形式）\n",
    "fractions_list = [\"5/30\", \"3/20\", \"1/4\", \"0/25\"]  # 示例\n",
    "# fractions_list = [\"89/300\", \"33/100\", \"28/75\"]\n",
    "# 或者用 (分子, 分母) 的元组\n",
    "# fractions_list = [(1, 3), (1, 2), (1, 6), (2, 5)]\n",
    "\n",
    "# 计算最简分数\n",
    "simplified_numerator, simplified_denominator = sum_and_simplify_fractions(fractions_list)\n",
    "\n",
    "# 输出结果\n",
    "print(f\"最简分数形式: {simplified_numerator}/{simplified_denominator}\")\n"
   ]
  }
 ],
 "metadata": {
  "kernelspec": {
   "display_name": "ee559",
   "language": "python",
   "name": "python3"
  },
  "language_info": {
   "codemirror_mode": {
    "name": "ipython",
    "version": 3
   },
   "file_extension": ".py",
   "mimetype": "text/x-python",
   "name": "python",
   "nbconvert_exporter": "python",
   "pygments_lexer": "ipython3",
   "version": "3.11.11"
  }
 },
 "nbformat": 4,
 "nbformat_minor": 2
}
